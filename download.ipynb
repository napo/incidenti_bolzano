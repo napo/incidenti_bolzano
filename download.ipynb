{
 "cells": [
  {
   "cell_type": "code",
   "execution_count": 17,
   "metadata": {},
   "outputs": [],
   "source": [
    "import geopandas as gpd\n",
    "from owslib.wfs import WebFeatureService\n",
    "import os"
   ]
  },
  {
   "cell_type": "code",
   "execution_count": 8,
   "metadata": {},
   "outputs": [],
   "source": [
    "wfs_url=\"http://sit.comune.bolzano.it/geoserver/wfs?service=WFS\""
   ]
  },
  {
   "cell_type": "code",
   "execution_count": 9,
   "metadata": {},
   "outputs": [],
   "source": [
    "wfs = WebFeatureService(url=wfs_url, version='2.0.0')"
   ]
  },
  {
   "cell_type": "code",
   "execution_count": 10,
   "metadata": {},
   "outputs": [],
   "source": [
    "layers = list(wfs.contents)"
   ]
  },
  {
   "cell_type": "code",
   "execution_count": 11,
   "metadata": {},
   "outputs": [],
   "source": [
    "incidenti = []\n",
    "for layer in layers:\n",
    "    if layer.find('ciden') > -1:\n",
    "        incidenti.append(layer)"
   ]
  },
  {
   "cell_type": "code",
   "execution_count": 15,
   "metadata": {},
   "outputs": [],
   "source": [
    "for incidente in incidenti:\n",
    "    response = wfs.getfeature(typename=incidente)\n",
    "    data = gpd.read_file(response)\n",
    "    data.crs=\"epsg:25832\"\n",
    "    data = data.to_crs(epsg=4326)\n",
    "    data['DTINCID']=data['DTINCID'].astype(str)\n",
    "    data.DTINCID =data.DTINCID.apply(lambda x: x.replace(' 00:00:00+00:00',\"\"))\n",
    "    data['lon'] = data.geometry.x\n",
    "    data['lat'] = data.geometry.y\n",
    "    name = incidente.replace(\"Cartografia:view_\",\"\")\n",
    "    data.to_file(\"data\" + os.sep + name + \".geojson\",driver=\"GeoJSON\")\n",
    "    del data['geometry']\n",
    "    data.to_csv(\"data\" + os.sep + name + \".csv\",index=False)"
   ]
  }
 ],
 "metadata": {
  "kernelspec": {
   "display_name": "Python 3.10.6 64-bit",
   "language": "python",
   "name": "python3"
  },
  "language_info": {
   "codemirror_mode": {
    "name": "ipython",
    "version": 3
   },
   "file_extension": ".py",
   "mimetype": "text/x-python",
   "name": "python",
   "nbconvert_exporter": "python",
   "pygments_lexer": "ipython3",
   "version": "3.10.6"
  },
  "orig_nbformat": 4,
  "vscode": {
   "interpreter": {
    "hash": "e7370f93d1d0cde622a1f8e1c04877d8463912d04d973331ad4851f04de6915a"
   }
  }
 },
 "nbformat": 4,
 "nbformat_minor": 2
}
