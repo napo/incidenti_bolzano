{
 "cells": [
  {
   "cell_type": "code",
   "execution_count": 12,
   "metadata": {},
   "outputs": [],
   "source": [
    "import contextily\n",
    "import sklearn\n",
    "import geopandas as gpd\n",
    "import pandas as pd\n",
    "import matplotlib.pyplot as plt\n",
    "from pyecharts.charts import Bar\n",
    "from pyecharts.charts import Boxplot\n",
    "from pyecharts import options as opts\n",
    "import pandas as pd\n",
    "from owslib.wfs import WebFeatureService\n",
    "import os\n",
    "from pyecharts import Bar\n",
    "from pyecharts import options as opts"
   ]
  },
  {
   "cell_type": "code",
   "execution_count": 13,
   "metadata": {},
   "outputs": [],
   "source": [
    "dest = \"data\"\n",
    "docs = \"docs\""
   ]
  },
  {
   "cell_type": "code",
   "execution_count": 14,
   "metadata": {},
   "outputs": [],
   "source": [
    "# funzione che scarica i dati e produce file geojson e file csv\n",
    "def updatedata(dest=\"data\"):\n",
    "    wfs_url=\"http://sit.comune.bolzano.it/geoserver/wfs?service=WFS\"\n",
    "    wfs = WebFeatureService(url=wfs_url, version='2.0.0')\n",
    "    layers = list(wfs.contents)\n",
    "    incidenti = []\n",
    "    for layer in layers:\n",
    "        if layer.find('ciden') > -1:\n",
    "            incidenti.append(layer)\n",
    "    for incidente in incidenti:\n",
    "        response = wfs.getfeature(typename=incidente)\n",
    "        data = gpd.read_file(response)\n",
    "        data.crs=\"epsg:25832\"\n",
    "        data = data.to_crs(epsg=4326)\n",
    "        data['DTINCID']=data['DTINCID'].astype(str)\n",
    "        data['ANNOINC']= = data['ANNOINC'].astype(int)\n",
    "        data.DTINCID =data.DTINCID.apply(lambda x: x.replace(' 00:00:00+00:00',\"\"))\n",
    "        data['lon'] = data.geometry.x\n",
    "        data['lat'] = data.geometry.y\n",
    "        name = incidente.replace(\"Cartografia:view_\",\"\")\n",
    "        data.to_file(dest + os.sep + name + \".geojson\",driver=\"GeoJSON\")\n",
    "        del data['geometry']\n",
    "        data.to_csv(dest + os.sep + name + \".csv\",index=False)"
   ]
  },
  {
   "cell_type": "code",
   "execution_count": 15,
   "metadata": {},
   "outputs": [],
   "source": [
    "download = False\n",
    "if (download):\n",
    "    updatedata()"
   ]
  },
  {
   "cell_type": "code",
   "execution_count": 25,
   "metadata": {},
   "outputs": [],
   "source": [
    "incidenti_prod = gpd.read_file(\"data\" + os.sep + \"incidenti_prod.geojson\")"
   ]
  },
  {
   "cell_type": "code",
   "execution_count": 26,
   "metadata": {},
   "outputs": [],
   "source": [
    "incidenti_prod.fillna(\"informazione non disponibile\",inplace=True)"
   ]
  },
  {
   "cell_type": "code",
   "execution_count": 59,
   "metadata": {},
   "outputs": [
    {
     "data": {
      "text/plain": [
       "0        2021\n",
       "1        2021\n",
       "2        2021\n",
       "3        2021\n",
       "4        2021\n",
       "         ... \n",
       "11982    2022\n",
       "11983    2022\n",
       "11984    2022\n",
       "11985    2022\n",
       "11986    2022\n",
       "Name: ANNOINC, Length: 11987, dtype: int64"
      ]
     },
     "execution_count": 59,
     "metadata": {},
     "output_type": "execute_result"
    }
   ],
   "source": [
    "incidenti_prod.ANNOINC.astype(int)"
   ]
  },
  {
   "cell_type": "code",
   "execution_count": 39,
   "metadata": {},
   "outputs": [],
   "source": [
    "incidenti_natura = incidenti_prod.groupby(['NATURA']).size().reset_index().rename(columns={0:'total'}).sort_values(['total','NATURA'],ascending=[False,True])"
   ]
  },
  {
   "cell_type": "code",
   "execution_count": 49,
   "metadata": {},
   "outputs": [
    {
     "data": {
      "text/plain": [
       "[7769, 950, 806, 675, 374, 348, 286, 273, 254, 104, 67, 36, 34, 10, 1]"
      ]
     },
     "execution_count": 49,
     "metadata": {},
     "output_type": "execute_result"
    }
   ],
   "source": [
    "incidenti_natura.total.to_list()"
   ]
  },
  {
   "cell_type": "code",
   "execution_count": 57,
   "metadata": {},
   "outputs": [
    {
     "data": {
      "text/plain": [
       "'/home/napo/dev/incidenti_bolzano/docs/index.html'"
      ]
     },
     "execution_count": 57,
     "metadata": {},
     "output_type": "execute_result"
    }
   ],
   "source": [
    "\n",
    "\n",
    "(Bar()\n",
    "    .add_xaxis(incidenti_natura.NATURA.to_list())\n",
    "    .add_yaxis('Natura incidente', incidenti_natura.total.to_list())\n",
    "    .set_global_opts(title_opts=opts.TitleOpts(title=\"Totale infortuni stradali per natura\", subtitle=\"2013-oggi\"))\n",
    "    .render(\"docs/index.html\") # generate a local HTML file\n",
    ")"
   ]
  }
 ],
 "metadata": {
  "kernelspec": {
   "display_name": "Python 3.10.6 64-bit",
   "language": "python",
   "name": "python3"
  },
  "language_info": {
   "codemirror_mode": {
    "name": "ipython",
    "version": 3
   },
   "file_extension": ".py",
   "mimetype": "text/x-python",
   "name": "python",
   "nbconvert_exporter": "python",
   "pygments_lexer": "ipython3",
   "version": "3.10.6"
  },
  "orig_nbformat": 4,
  "vscode": {
   "interpreter": {
    "hash": "e7370f93d1d0cde622a1f8e1c04877d8463912d04d973331ad4851f04de6915a"
   }
  }
 },
 "nbformat": 4,
 "nbformat_minor": 2
}
